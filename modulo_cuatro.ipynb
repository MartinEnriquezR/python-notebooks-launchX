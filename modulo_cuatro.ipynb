{
 "cells": [
  {
   "cell_type": "markdown",
   "id": "26671cb3-c293-41d8-87cf-3368eb9e931e",
   "metadata": {},
   "source": [
    "Definir la cadena"
   ]
  },
  {
   "cell_type": "code",
   "execution_count": 1,
   "id": "98356e03-73bb-47fb-8a6e-5be0309f0151",
   "metadata": {},
   "outputs": [],
   "source": [
    "text = \"\"\"Interesting facts about the Moon. The Moon is Earth's only satellite. There are several interesting facts about the Moon and how it affects life here on Earth. \n",
    "On average, the Moon moves 4cm away from the Earth every year. This yearly drift is not significant enough to cause immediate effects on Earth.\"\"\""
   ]
  },
  {
   "cell_type": "markdown",
   "id": "5b25c79f-9fcc-48f4-8dcd-41b349887c43",
   "metadata": {},
   "source": [
    "Dividir el texto en cada oracion"
   ]
  },
  {
   "cell_type": "code",
   "execution_count": 2,
   "id": "6caa2e1f-b0e2-4ebf-b2e5-0ded0e7bed15",
   "metadata": {},
   "outputs": [
    {
     "data": {
      "text/plain": [
       "['Interesting facts about the Moon',\n",
       " \" The Moon is Earth's only satellite\",\n",
       " ' There are several interesting facts about the Moon and how it affects life here on Earth',\n",
       " ' \\nOn average, the Moon moves 4cm away from the Earth every year',\n",
       " ' This yearly drift is not significant enough to cause immediate effects on Earth',\n",
       " '']"
      ]
     },
     "execution_count": 2,
     "metadata": {},
     "output_type": "execute_result"
    }
   ],
   "source": [
    "split_text = text.split('.')\n",
    "split_text"
   ]
  },
  {
   "cell_type": "markdown",
   "id": "50aacf7f-297f-480e-9545-56826ed98258",
   "metadata": {},
   "source": [
    "Define las palabras pista: average, temperature y distance suenan bien"
   ]
  },
  {
   "cell_type": "code",
   "execution_count": 3,
   "id": "f6bc8fea-5fd7-43da-a3b8-41566719af15",
   "metadata": {},
   "outputs": [],
   "source": [
    "words = ['average','temperature','distance']"
   ]
  },
  {
   "cell_type": "markdown",
   "id": "a59465fb-4010-45c1-a837-e1c64ac76611",
   "metadata": {},
   "source": [
    "Cre un bucle para imprimir solo datos sobre la Luna que estén relacionados con las palabras clave definidas anteriormente:"
   ]
  },
  {
   "cell_type": "code",
   "execution_count": 7,
   "id": "e8f3f2e2-5f69-4db5-bd8b-582e8ce0d2ca",
   "metadata": {},
   "outputs": [
    {
     "name": "stdout",
     "output_type": "stream",
     "text": [
      " \n",
      "On average, the Moon moves 4cm away from the Earth every year\n"
     ]
    }
   ],
   "source": [
    "for sentence in split_text:\n",
    "    for word in words:\n",
    "        if word in sentence:\n",
    "            print(sentence)"
   ]
  },
  {
   "cell_type": "markdown",
   "id": "4dc2e387-16df-4f79-98ef-3cb9b8264c8a",
   "metadata": {},
   "source": [
    "Ciclo para cambiar C a Celsius"
   ]
  },
  {
   "cell_type": "code",
   "execution_count": 8,
   "id": "b0d3036d-d3e0-4790-8e3f-1dabc1467844",
   "metadata": {},
   "outputs": [],
   "source": [
    "for sentence in split_text:\n",
    "    sentence.replace(' C', ' Celsius')"
   ]
  },
  {
   "cell_type": "markdown",
   "id": "583dc90b-4c49-4d22-8a12-d55cf02fc3c2",
   "metadata": {},
   "source": [
    "## Formatenado cadenas"
   ]
  },
  {
   "cell_type": "code",
   "execution_count": 9,
   "id": "c0b9ed8e-bbf3-4691-8d25-85980edf0b33",
   "metadata": {},
   "outputs": [],
   "source": [
    "name = \"Moon\"\n",
    "gravity = 0.00162 # in kms\n",
    "planet = \"Earth\""
   ]
  },
  {
   "cell_type": "code",
   "execution_count": 12,
   "id": "0d9f22ee-b8dc-428b-967e-631ac7cfd1de",
   "metadata": {},
   "outputs": [
    {
     "name": "stdout",
     "output_type": "stream",
     "text": [
      "La Gravedad Del Planeta Earth\n"
     ]
    }
   ],
   "source": [
    "title = \"La gravedad del planeta {}\".format(planet).title()"
   ]
  },
  {
   "cell_type": "code",
   "execution_count": 14,
   "id": "0d2fc957-31d3-4652-8d66-07ee0c7a1c91",
   "metadata": {},
   "outputs": [],
   "source": [
    "body = f\"\"\"{'-'*60} \n",
    "Nombre del planeta: {planet} \n",
    "Gravedad en {name}: {gravity * 1000} m/s2 \n",
    "\"\"\""
   ]
  },
  {
   "cell_type": "code",
   "execution_count": 15,
   "id": "af503076-bee7-4465-8281-bfe206366f16",
   "metadata": {},
   "outputs": [
    {
     "name": "stdout",
     "output_type": "stream",
     "text": [
      "La Gravedad Del Planeta Earth \n",
      "------------------------------------------------------------ \n",
      "Nombre del planeta: Earth \n",
      "Gravedad en Moon: 1.6199999999999999 m/s2 \n",
      " \n",
      "\n"
     ]
    }
   ],
   "source": [
    "plantilla = f\"\"\"{title} \n",
    "{body} \n",
    "\"\"\" \n",
    "print(plantilla)"
   ]
  },
  {
   "cell_type": "code",
   "execution_count": 17,
   "id": "6c2fc1ac-2fcd-4b1e-8a5e-8723cb1caec2",
   "metadata": {},
   "outputs": [],
   "source": [
    "planet = 'Marte '\n",
    "gravity  = 0.00143\n",
    "name = 'Ganímedes'"
   ]
  },
  {
   "cell_type": "code",
   "execution_count": 18,
   "id": "39957b87-f721-40dd-b8e2-1fb67d01b97d",
   "metadata": {},
   "outputs": [
    {
     "name": "stdout",
     "output_type": "stream",
     "text": [
      "La Gravedad Del Planeta Earth \n",
      "------------------------------------------------------------ \n",
      "Nombre del planeta: Earth \n",
      "Gravedad en Moon: 1.6199999999999999 m/s2 \n",
      " \n",
      "\n"
     ]
    }
   ],
   "source": [
    "print(plantilla)"
   ]
  },
  {
   "cell_type": "code",
   "execution_count": 20,
   "id": "2cac636c-e010-4453-ac8e-33b9fe2a00a9",
   "metadata": {},
   "outputs": [
    {
     "name": "stdout",
     "output_type": "stream",
     "text": [
      "\n",
      "Datos de Gravedad sobre: Ganímedes\n",
      "-------------------------------------------------------------------------------\n",
      "Nombre del planeta: Marte \n",
      "Gravedad en Ganímedes: 0.00143 m/s2\n",
      "\n"
     ]
    }
   ],
   "source": [
    "nueva_plantilla = \"\"\"\n",
    "Datos de Gravedad sobre: {0}\n",
    "-------------------------------------------------------------------------------\n",
    "Nombre del planeta: {1}\n",
    "Gravedad en {0}: {2} m/s2\n",
    "\"\"\"\n",
    "print(nueva_plantilla.format(name, planet, gravity))"
   ]
  },
  {
   "cell_type": "code",
   "execution_count": 21,
   "id": "e0f7e09e-2682-4766-8289-c540cbefc5ad",
   "metadata": {},
   "outputs": [
    {
     "name": "stdout",
     "output_type": "stream",
     "text": [
      "\n",
      "Datos de Gravedad sobre: Ganímedes\n",
      "-------------------------------------------------------------------------------\n",
      "Nombre del planeta: Marte \n",
      "Gravedad en Ganímedes: 1.4300000000000002 m/s2\n",
      "\n"
     ]
    }
   ],
   "source": [
    "print(nueva_plantilla.format(name, planet, gravity*1000))"
   ]
  },
  {
   "cell_type": "code",
   "execution_count": null,
   "id": "7d549d2b-69e5-4dad-a1bb-1bfd5b6b8329",
   "metadata": {},
   "outputs": [],
   "source": []
  }
 ],
 "metadata": {
  "kernelspec": {
   "display_name": "Python 3",
   "language": "python",
   "name": "python3"
  },
  "language_info": {
   "codemirror_mode": {
    "name": "ipython",
    "version": 3
   },
   "file_extension": ".py",
   "mimetype": "text/x-python",
   "name": "python",
   "nbconvert_exporter": "python",
   "pygments_lexer": "ipython3",
   "version": "3.9.7"
  }
 },
 "nbformat": 4,
 "nbformat_minor": 5
}
