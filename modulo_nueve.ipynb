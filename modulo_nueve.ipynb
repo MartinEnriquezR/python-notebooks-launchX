{
 "cells": [
  {
   "cell_type": "code",
   "execution_count": 1,
   "id": "27cd9cd1-c3fc-4f43-8b9d-62517be5db35",
   "metadata": {},
   "outputs": [
    {
     "name": "stdout",
     "output_type": "stream",
     "text": [
      "El promedio de los tanques es: 20.0\n"
     ]
    }
   ],
   "source": [
    "def promedio(p_tanque,s_tanque,t_tanque):\n",
    "    return (p_tanque+s_tanque+t_tanque)/3\n",
    "print(f'El promedio de los tanques es: {promedio(10,20,30)}')"
   ]
  },
  {
   "cell_type": "code",
   "execution_count": 2,
   "id": "2ae074b9-c559-473e-bc26-3c744c8b956c",
   "metadata": {},
   "outputs": [
    {
     "data": {
      "text/plain": [
       "25.0"
      ]
     },
     "execution_count": 2,
     "metadata": {},
     "output_type": "execute_result"
    }
   ],
   "source": [
    "#Funcion de promedio con listas\n",
    "def average(items):\n",
    "    return sum(items)/len(items)\n",
    "average([10,20,30,40])"
   ]
  },
  {
   "cell_type": "markdown",
   "id": "c976572e-ceb7-4297-a85f-bb7d972657ab",
   "metadata": {},
   "source": [
    "## Ejercicio 2"
   ]
  },
  {
   "cell_type": "code",
   "execution_count": 5,
   "id": "6c1411c0-955e-4c02-b568-0adb4d042626",
   "metadata": {},
   "outputs": [
    {
     "name": "stdout",
     "output_type": "stream",
     "text": [
      "\n",
      "    Mision con destino a Marte\n",
      "    Tiempo de duracion 60\n",
      "    \n",
      "Tanque principal con 40 litros de combustible\n",
      "Tanque reserva con 20 litros de combustible\n"
     ]
    }
   ],
   "source": [
    "def informe(destino,*args,**kwargs):\n",
    "    print(f\"\"\"\n",
    "    Mision con destino a {destino}\n",
    "    Tiempo de duracion {sum(args)}\n",
    "    \"\"\")\n",
    "    for key, value in kwargs.items():\n",
    "        print(f\"Tanque {key} con {value} litros de combustible\")\n",
    "informe(\"Marte\",10,20,30,principal=40,reserva=20)"
   ]
  },
  {
   "cell_type": "code",
   "execution_count": null,
   "id": "80c8b3c9-f323-41ee-9463-62b998fe7c53",
   "metadata": {},
   "outputs": [],
   "source": []
  }
 ],
 "metadata": {
  "kernelspec": {
   "display_name": "Python 3",
   "language": "python",
   "name": "python3"
  },
  "language_info": {
   "codemirror_mode": {
    "name": "ipython",
    "version": 3
   },
   "file_extension": ".py",
   "mimetype": "text/x-python",
   "name": "python",
   "nbconvert_exporter": "python",
   "pygments_lexer": "ipython3",
   "version": "3.9.7"
  }
 },
 "nbformat": 4,
 "nbformat_minor": 5
}
