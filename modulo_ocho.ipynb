{
 "cells": [
  {
   "cell_type": "code",
   "execution_count": 1,
   "id": "d7d2f8f2-57a7-44ca-be16-c89ac97dd323",
   "metadata": {},
   "outputs": [
    {
     "name": "stdout",
     "output_type": "stream",
     "text": [
      "El planeta Marte tiene 2 lunas\n"
     ]
    }
   ],
   "source": [
    "planet = {\n",
    "    'name':'Marte',\n",
    "    'moons': 2\n",
    "}\n",
    "print(f\"El planeta {planet['name']} tiene {planet['moons']} lunas\")"
   ]
  },
  {
   "cell_type": "code",
   "execution_count": 2,
   "id": "ffc63c44-ef28-4435-a5cb-3cd3574c92d4",
   "metadata": {},
   "outputs": [
    {
     "name": "stdout",
     "output_type": "stream",
     "text": [
      "El planeta Marte tiene una circunferencia polar 6752 y 6792\n"
     ]
    }
   ],
   "source": [
    "planet['circunferencia'] = {'polar': 6752,'equatorial': 6792}\n",
    "print(f\"El planeta {planet['name']} tiene una circunferencia polar {planet['circunferencia']['polar']} y {planet['circunferencia']['equatorial']}\")"
   ]
  },
  {
   "cell_type": "markdown",
   "id": "c1f96a2b-dd6b-42de-b02a-42b4b6581188",
   "metadata": {},
   "source": [
    "## Segundo ejercicio"
   ]
  },
  {
   "cell_type": "code",
   "execution_count": 3,
   "id": "b1c301f1-a394-4be8-a2de-8f38d4681266",
   "metadata": {},
   "outputs": [
    {
     "name": "stdout",
     "output_type": "stream",
     "text": [
      "Hay un total de 214 lunas\n"
     ]
    }
   ],
   "source": [
    "planet_moons = {\n",
    "    'mercury': 0,\n",
    "    'venus': 0,\n",
    "    'earth': 1,\n",
    "    'mars': 2,\n",
    "    'jupiter': 79,\n",
    "    'saturn': 82,\n",
    "    'uranus': 27,\n",
    "    'neptune': 14,\n",
    "    'pluto': 5,\n",
    "    'haumea': 2,\n",
    "    'makemake': 1,\n",
    "    'eris': 1\n",
    "}\n",
    "# numero de lunas\n",
    "lunas = planet_moons.values()\n",
    "total = 0\n",
    "for luna in lunas:\n",
    "    total += luna\n",
    "print(f'Hay un total de {total} lunas')"
   ]
  },
  {
   "cell_type": "code",
   "execution_count": 4,
   "id": "3d4aff66-5b6c-40fa-ab23-3cbeb21b2e66",
   "metadata": {},
   "outputs": [
    {
     "name": "stdout",
     "output_type": "stream",
     "text": [
      "En promedio se tienen 17.833333333333332 lunas\n"
     ]
    }
   ],
   "source": [
    "# Promedio de lunas\n",
    "print(f'En promedio se tienen {total/len(lunas)} lunas')"
   ]
  },
  {
   "cell_type": "code",
   "execution_count": null,
   "id": "feeaf7db-a251-49b0-8505-221acffb6c65",
   "metadata": {},
   "outputs": [],
   "source": []
  }
 ],
 "metadata": {
  "kernelspec": {
   "display_name": "Python 3",
   "language": "python",
   "name": "python3"
  },
  "language_info": {
   "codemirror_mode": {
    "name": "ipython",
    "version": 3
   },
   "file_extension": ".py",
   "mimetype": "text/x-python",
   "name": "python",
   "nbconvert_exporter": "python",
   "pygments_lexer": "ipython3",
   "version": "3.9.7"
  }
 },
 "nbformat": 4,
 "nbformat_minor": 5
}
