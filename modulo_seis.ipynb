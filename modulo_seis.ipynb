{
 "cells": [
  {
   "cell_type": "markdown",
   "id": "aa21d449-f333-473f-81b8-8c9cabff14da",
   "metadata": {},
   "source": [
    "## Primer ejercicio"
   ]
  },
  {
   "cell_type": "code",
   "execution_count": 1,
   "id": "e2f6beb9-0766-4a3e-bbd2-f560ac9ecb7c",
   "metadata": {},
   "outputs": [
    {
     "name": "stdout",
     "output_type": "stream",
     "text": [
      "There are 8 planets\n",
      "Pluton is the last planet\n"
     ]
    }
   ],
   "source": [
    "planets = ['Mercury', 'Venus', 'Earth', 'Mars', 'Jupiter', 'Saturn', 'Uranus', 'Neptune']\n",
    "print('There are', len(planets), 'planets')\n",
    "planets.append('Pluton')\n",
    "print(planets[-1], 'is the last planet')"
   ]
  },
  {
   "cell_type": "markdown",
   "id": "9f60be17-e80e-4d52-9011-fcbd45e1aaf3",
   "metadata": {},
   "source": [
    "## Segundo ejercicio"
   ]
  },
  {
   "cell_type": "code",
   "execution_count": 2,
   "id": "dc01108b-02d5-4bd3-9f99-659bfffcba48",
   "metadata": {},
   "outputs": [
    {
     "name": "stdin",
     "output_type": "stream",
     "text": [
      "Ingresa el nombre de tu planeta Earth\n"
     ]
    },
    {
     "name": "stdout",
     "output_type": "stream",
     "text": [
      "Planetas mas cercanos al sol desdeEarth\n",
      "['Mercury', 'Venus']\n",
      "Planetas mas lejanos al sol desde Earth\n",
      "['Mars', 'Jupiter', 'Saturn', 'Neptune']\n"
     ]
    }
   ],
   "source": [
    "planets = ['Mercury', 'Venus', 'Earth', 'Mars', 'Jupiter', 'Saturn', 'Neptune']\n",
    "user_planet = input('Ingresa el nombre de tu planeta')\n",
    "planet_index = planets.index(user_planet)\n",
    "print('Planetas mas cercanos al sol desde' + user_planet)\n",
    "print(planets[0:planet_index])\n",
    "print('Planetas mas lejanos al sol desde ' + user_planet)\n",
    "print(planets[planet_index + 1:])"
   ]
  },
  {
   "cell_type": "code",
   "execution_count": null,
   "id": "e6d1e758-cea1-4ecb-a4af-cc25db317a3d",
   "metadata": {},
   "outputs": [],
   "source": []
  }
 ],
 "metadata": {
  "kernelspec": {
   "display_name": "Python 3",
   "language": "python",
   "name": "python3"
  },
  "language_info": {
   "codemirror_mode": {
    "name": "ipython",
    "version": 3
   },
   "file_extension": ".py",
   "mimetype": "text/x-python",
   "name": "python",
   "nbconvert_exporter": "python",
   "pygments_lexer": "ipython3",
   "version": "3.9.7"
  }
 },
 "nbformat": 4,
 "nbformat_minor": 5
}
