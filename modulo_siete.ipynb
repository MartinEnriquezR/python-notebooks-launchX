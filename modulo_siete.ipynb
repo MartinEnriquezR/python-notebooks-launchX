{
 "cells": [
  {
   "cell_type": "markdown",
   "id": "3aee9e04-abeb-4667-a6ec-6bc19d4acc84",
   "metadata": {},
   "source": [
    "## Primer ejercicio"
   ]
  },
  {
   "cell_type": "code",
   "execution_count": 2,
   "id": "6026c032-e447-407f-84aa-a8e1d09dd09a",
   "metadata": {},
   "outputs": [
    {
     "name": "stdin",
     "output_type": "stream",
     "text": [
      "Ingresa el nombre del planeta que quieres añadir marte\n",
      "Ingresa el nombre del planeta que quieres añadir jupyter\n",
      "Ingresa el nombre del planeta que quieres añadir done\n"
     ]
    }
   ],
   "source": [
    "new_input = input('Ingresa el nombre del planeta que quieres añadir')\n",
    "planets = []\n",
    "while new_input != 'done' and new_input != '':\n",
    "    planets.append(new_input)\n",
    "    new_input = input('Ingresa el nombre del planeta que quieres añadir')"
   ]
  },
  {
   "cell_type": "markdown",
   "id": "4232b1a2-65fc-4f54-ac5e-40a6fcba8248",
   "metadata": {},
   "source": [
    "### Mostrando los planetas"
   ]
  },
  {
   "cell_type": "code",
   "execution_count": 3,
   "id": "da83ba4a-a260-489a-b0cc-cfa00df0dd6c",
   "metadata": {},
   "outputs": [
    {
     "name": "stdout",
     "output_type": "stream",
     "text": [
      "marte\n",
      "jupyter\n"
     ]
    }
   ],
   "source": [
    "for i in planets:\n",
    "    print(i)"
   ]
  },
  {
   "cell_type": "code",
   "execution_count": null,
   "id": "d8d01f95-82ca-4267-b393-daadc0b1617a",
   "metadata": {},
   "outputs": [],
   "source": []
  }
 ],
 "metadata": {
  "kernelspec": {
   "display_name": "Python 3",
   "language": "python",
   "name": "python3"
  },
  "language_info": {
   "codemirror_mode": {
    "name": "ipython",
    "version": 3
   },
   "file_extension": ".py",
   "mimetype": "text/x-python",
   "name": "python",
   "nbconvert_exporter": "python",
   "pygments_lexer": "ipython3",
   "version": "3.9.7"
  }
 },
 "nbformat": 4,
 "nbformat_minor": 5
}
