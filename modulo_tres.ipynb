{
 "cells": [
  {
   "cell_type": "code",
   "execution_count": 1,
   "id": "2784d648-624f-4bcf-83da-83446e0c1cfa",
   "metadata": {},
   "outputs": [
    {
     "name": "stdout",
     "output_type": "stream",
     "text": [
      "¡Cuidado un asteroide se acerca!\n"
     ]
    }
   ],
   "source": [
    "# Añadir el código necesario para crear una variable que guarde la velocidad del asteroide.\n",
    "# Escribe una expresión de prueba para calcular si necesita una advertencia.\n",
    "# Agregue las instrucciones que se ejecutarán si la expresión de prueba es true o false.\n",
    "\n",
    "asteroide = 70\n",
    "if asteroide > 25:\n",
    "    print('¡Cuidado un asteroide se acerca!')\n",
    "else:\n",
    "    print('Nada que reportar')"
   ]
  },
  {
   "cell_type": "code",
   "execution_count": 2,
   "id": "f66f716d-e4ce-48de-bf57-417d91328a63",
   "metadata": {},
   "outputs": [
    {
     "name": "stdout",
     "output_type": "stream",
     "text": [
      "Continua con tu dia\n"
     ]
    }
   ],
   "source": [
    "# Agrega el código para crear una variable para un asteroide que viaja a 19 km/s\n",
    "# Escribe varias expresiones de prueba para determinar si puedes ver el rayo de luz desde la tierra\n",
    "# Agrega las instrucciones que se ejecutarán si las expresiones de prueba son True o False\n",
    "\n",
    "asteroide = 19\n",
    "if asteroide >= 20:\n",
    "    print('Mira al cielo un rayo de luz')\n",
    "else:\n",
    "    print('Continua con tu dia')"
   ]
  },
  {
   "cell_type": "code",
   "execution_count": 3,
   "id": "7199de5a-dec1-4dd6-bc6f-443304b8a672",
   "metadata": {},
   "outputs": [
    {
     "name": "stdout",
     "output_type": "stream",
     "text": [
      "Cuidado una asteroide se aproxima a la tierra\n"
     ]
    }
   ],
   "source": [
    "# Agrega el código para crear nuevas variables para la velocidad y el tamaño del asteroide\n",
    "# Para probar el código, prueba con varias velocidades y tamaños\n",
    "# Escribe varias expresiones de prueba o combinaciones de expresiones de prueba para determinar qué mensaje se debe enviar a Tierra.\n",
    "\n",
    "velocidad_asteroide = 80\n",
    "tamano_asteroide = 37\n",
    "if velocidad_asteroide > 25 and tamano_asteroide > 25:\n",
    "    print('Cuidado una asteroide se aproxima a la tierra')\n",
    "elif velocidad_asteroide >= 20:\n",
    "    print('Mira al cielo un rayo de luz')\n",
    "elif tamano_asteroide < 25:\n",
    "    print('Continua con tu dia')\n",
    "else:\n",
    "    print('Continua con tu dia')"
   ]
  }
 ],
 "metadata": {
  "kernelspec": {
   "display_name": "Python 3",
   "language": "python",
   "name": "python3"
  },
  "language_info": {
   "codemirror_mode": {
    "name": "ipython",
    "version": 3
   },
   "file_extension": ".py",
   "mimetype": "text/x-python",
   "name": "python",
   "nbconvert_exporter": "python",
   "pygments_lexer": "ipython3",
   "version": "3.9.7"
  }
 },
 "nbformat": 4,
 "nbformat_minor": 5
}
