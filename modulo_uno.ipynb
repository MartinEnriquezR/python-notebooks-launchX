{
 "cells": [
  {
   "cell_type": "markdown",
   "id": "ab2f9364-623c-4f01-8bd0-f45a6faf82b5",
   "metadata": {},
   "source": [
    "Imprimir la fecha"
   ]
  },
  {
   "cell_type": "code",
   "execution_count": 1,
   "id": "40adcd39-54a8-4798-a7d1-c76dd2536ddd",
   "metadata": {},
   "outputs": [
    {
     "name": "stdout",
     "output_type": "stream",
     "text": [
      "Today's date is: 2022-02-11\n"
     ]
    }
   ],
   "source": [
    "from datetime import date\n",
    "print(f\"Today's date is: {date.today()}\")"
   ]
  },
  {
   "cell_type": "markdown",
   "id": "9006fec0-e919-4dd8-8f19-59a5940cfad6",
   "metadata": {},
   "source": [
    "Convertir unidades"
   ]
  },
  {
   "cell_type": "code",
   "execution_count": 2,
   "id": "2a3099a4-4d18-4426-ae33-25b8f8cd833b",
   "metadata": {},
   "outputs": [
    {
     "name": "stdout",
     "output_type": "stream",
     "text": [
      "11 parsec, is 35.877159999999996 lightyears\n"
     ]
    }
   ],
   "source": [
    "parsec = 11\n",
    "lightyears = 3.26156 * parsec\n",
    "print(str(parsec) + \" parsec, is \" + str(lightyears) + \" lightyears\")"
   ]
  }
 ],
 "metadata": {
  "kernelspec": {
   "display_name": "Python 3",
   "language": "python",
   "name": "python3"
  },
  "language_info": {
   "codemirror_mode": {
    "name": "ipython",
    "version": 3
   },
   "file_extension": ".py",
   "mimetype": "text/x-python",
   "name": "python",
   "nbconvert_exporter": "python",
   "pygments_lexer": "ipython3",
   "version": "3.9.7"
  }
 },
 "nbformat": 4,
 "nbformat_minor": 5
}
